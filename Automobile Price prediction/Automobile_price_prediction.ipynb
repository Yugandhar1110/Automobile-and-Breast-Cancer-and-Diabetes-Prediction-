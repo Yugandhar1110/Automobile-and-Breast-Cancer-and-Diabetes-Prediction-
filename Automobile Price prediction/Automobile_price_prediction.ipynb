{
 "cells": [
  {
   "cell_type": "code",
   "execution_count": 1,
   "id": "9858d9b8",
   "metadata": {},
   "outputs": [],
   "source": [
    "import pandas as pd\n",
    "import matplotlib.pyplot as plt\n",
    "import seaborn as sns\n",
    "import numpy as np"
   ]
  },
  {
   "cell_type": "code",
   "execution_count": 2,
   "id": "d140cde8",
   "metadata": {},
   "outputs": [],
   "source": [
    "df = pd.read_csv('auto (1).txt')"
   ]
  },
  {
   "cell_type": "code",
   "execution_count": 3,
   "id": "41d23f71",
   "metadata": {},
   "outputs": [],
   "source": [
    "pd.set_option(\"display.max_columns\",26)"
   ]
  },
  {
   "cell_type": "code",
   "execution_count": 4,
   "id": "78c8b165",
   "metadata": {},
   "outputs": [
    {
     "data": {
      "text/html": [
       "<div>\n",
       "<style scoped>\n",
       "    .dataframe tbody tr th:only-of-type {\n",
       "        vertical-align: middle;\n",
       "    }\n",
       "\n",
       "    .dataframe tbody tr th {\n",
       "        vertical-align: top;\n",
       "    }\n",
       "\n",
       "    .dataframe thead th {\n",
       "        text-align: right;\n",
       "    }\n",
       "</style>\n",
       "<table border=\"1\" class=\"dataframe\">\n",
       "  <thead>\n",
       "    <tr style=\"text-align: right;\">\n",
       "      <th></th>\n",
       "      <th>symboling</th>\n",
       "      <th>normalized-losses</th>\n",
       "      <th>make</th>\n",
       "      <th>fuel-type</th>\n",
       "      <th>aspiration</th>\n",
       "      <th>num-of-doors</th>\n",
       "      <th>body-style</th>\n",
       "      <th>drive-wheels</th>\n",
       "      <th>engine-location</th>\n",
       "      <th>wheel-base</th>\n",
       "      <th>length</th>\n",
       "      <th>width</th>\n",
       "      <th>height</th>\n",
       "      <th>curb-weight</th>\n",
       "      <th>engine-type</th>\n",
       "      <th>num-of-cylinders</th>\n",
       "      <th>engine-size</th>\n",
       "      <th>fuel-system</th>\n",
       "      <th>bore</th>\n",
       "      <th>stroke</th>\n",
       "      <th>compression-ratio</th>\n",
       "      <th>horsepower</th>\n",
       "      <th>peak-rpm</th>\n",
       "      <th>city-mpg</th>\n",
       "      <th>highway-mpg</th>\n",
       "      <th>price</th>\n",
       "    </tr>\n",
       "  </thead>\n",
       "  <tbody>\n",
       "    <tr>\n",
       "      <th>0</th>\n",
       "      <td>3</td>\n",
       "      <td>?</td>\n",
       "      <td>alfa-romero</td>\n",
       "      <td>gas</td>\n",
       "      <td>std</td>\n",
       "      <td>two</td>\n",
       "      <td>convertible</td>\n",
       "      <td>rwd</td>\n",
       "      <td>front</td>\n",
       "      <td>88.6</td>\n",
       "      <td>168.8</td>\n",
       "      <td>64.1</td>\n",
       "      <td>48.8</td>\n",
       "      <td>2548</td>\n",
       "      <td>dohc</td>\n",
       "      <td>four</td>\n",
       "      <td>130</td>\n",
       "      <td>mpfi</td>\n",
       "      <td>3.47</td>\n",
       "      <td>2.68</td>\n",
       "      <td>9.0</td>\n",
       "      <td>111</td>\n",
       "      <td>5000</td>\n",
       "      <td>21</td>\n",
       "      <td>27</td>\n",
       "      <td>13495</td>\n",
       "    </tr>\n",
       "    <tr>\n",
       "      <th>1</th>\n",
       "      <td>3</td>\n",
       "      <td>?</td>\n",
       "      <td>alfa-romero</td>\n",
       "      <td>gas</td>\n",
       "      <td>std</td>\n",
       "      <td>two</td>\n",
       "      <td>convertible</td>\n",
       "      <td>rwd</td>\n",
       "      <td>front</td>\n",
       "      <td>88.6</td>\n",
       "      <td>168.8</td>\n",
       "      <td>64.1</td>\n",
       "      <td>48.8</td>\n",
       "      <td>2548</td>\n",
       "      <td>dohc</td>\n",
       "      <td>four</td>\n",
       "      <td>130</td>\n",
       "      <td>mpfi</td>\n",
       "      <td>3.47</td>\n",
       "      <td>2.68</td>\n",
       "      <td>9.0</td>\n",
       "      <td>111</td>\n",
       "      <td>5000</td>\n",
       "      <td>21</td>\n",
       "      <td>27</td>\n",
       "      <td>16500</td>\n",
       "    </tr>\n",
       "    <tr>\n",
       "      <th>2</th>\n",
       "      <td>1</td>\n",
       "      <td>?</td>\n",
       "      <td>alfa-romero</td>\n",
       "      <td>gas</td>\n",
       "      <td>std</td>\n",
       "      <td>two</td>\n",
       "      <td>hatchback</td>\n",
       "      <td>rwd</td>\n",
       "      <td>front</td>\n",
       "      <td>94.5</td>\n",
       "      <td>171.2</td>\n",
       "      <td>65.5</td>\n",
       "      <td>52.4</td>\n",
       "      <td>2823</td>\n",
       "      <td>ohcv</td>\n",
       "      <td>six</td>\n",
       "      <td>152</td>\n",
       "      <td>mpfi</td>\n",
       "      <td>2.68</td>\n",
       "      <td>3.47</td>\n",
       "      <td>9.0</td>\n",
       "      <td>154</td>\n",
       "      <td>5000</td>\n",
       "      <td>19</td>\n",
       "      <td>26</td>\n",
       "      <td>16500</td>\n",
       "    </tr>\n",
       "    <tr>\n",
       "      <th>3</th>\n",
       "      <td>2</td>\n",
       "      <td>164</td>\n",
       "      <td>audi</td>\n",
       "      <td>gas</td>\n",
       "      <td>std</td>\n",
       "      <td>four</td>\n",
       "      <td>sedan</td>\n",
       "      <td>fwd</td>\n",
       "      <td>front</td>\n",
       "      <td>99.8</td>\n",
       "      <td>176.6</td>\n",
       "      <td>66.2</td>\n",
       "      <td>54.3</td>\n",
       "      <td>2337</td>\n",
       "      <td>ohc</td>\n",
       "      <td>four</td>\n",
       "      <td>109</td>\n",
       "      <td>mpfi</td>\n",
       "      <td>3.19</td>\n",
       "      <td>3.40</td>\n",
       "      <td>10.0</td>\n",
       "      <td>102</td>\n",
       "      <td>5500</td>\n",
       "      <td>24</td>\n",
       "      <td>30</td>\n",
       "      <td>13950</td>\n",
       "    </tr>\n",
       "    <tr>\n",
       "      <th>4</th>\n",
       "      <td>2</td>\n",
       "      <td>164</td>\n",
       "      <td>audi</td>\n",
       "      <td>gas</td>\n",
       "      <td>std</td>\n",
       "      <td>four</td>\n",
       "      <td>sedan</td>\n",
       "      <td>4wd</td>\n",
       "      <td>front</td>\n",
       "      <td>99.4</td>\n",
       "      <td>176.6</td>\n",
       "      <td>66.4</td>\n",
       "      <td>54.3</td>\n",
       "      <td>2824</td>\n",
       "      <td>ohc</td>\n",
       "      <td>five</td>\n",
       "      <td>136</td>\n",
       "      <td>mpfi</td>\n",
       "      <td>3.19</td>\n",
       "      <td>3.40</td>\n",
       "      <td>8.0</td>\n",
       "      <td>115</td>\n",
       "      <td>5500</td>\n",
       "      <td>18</td>\n",
       "      <td>22</td>\n",
       "      <td>17450</td>\n",
       "    </tr>\n",
       "  </tbody>\n",
       "</table>\n",
       "</div>"
      ],
      "text/plain": [
       "   symboling normalized-losses         make fuel-type aspiration num-of-doors  \\\n",
       "0          3                 ?  alfa-romero       gas        std          two   \n",
       "1          3                 ?  alfa-romero       gas        std          two   \n",
       "2          1                 ?  alfa-romero       gas        std          two   \n",
       "3          2               164         audi       gas        std         four   \n",
       "4          2               164         audi       gas        std         four   \n",
       "\n",
       "    body-style drive-wheels engine-location  wheel-base  length  width  \\\n",
       "0  convertible          rwd           front        88.6   168.8   64.1   \n",
       "1  convertible          rwd           front        88.6   168.8   64.1   \n",
       "2    hatchback          rwd           front        94.5   171.2   65.5   \n",
       "3        sedan          fwd           front        99.8   176.6   66.2   \n",
       "4        sedan          4wd           front        99.4   176.6   66.4   \n",
       "\n",
       "   height  curb-weight engine-type num-of-cylinders  engine-size fuel-system  \\\n",
       "0    48.8         2548        dohc             four          130        mpfi   \n",
       "1    48.8         2548        dohc             four          130        mpfi   \n",
       "2    52.4         2823        ohcv              six          152        mpfi   \n",
       "3    54.3         2337         ohc             four          109        mpfi   \n",
       "4    54.3         2824         ohc             five          136        mpfi   \n",
       "\n",
       "   bore stroke  compression-ratio horsepower peak-rpm  city-mpg  highway-mpg  \\\n",
       "0  3.47   2.68                9.0        111     5000        21           27   \n",
       "1  3.47   2.68                9.0        111     5000        21           27   \n",
       "2  2.68   3.47                9.0        154     5000        19           26   \n",
       "3  3.19   3.40               10.0        102     5500        24           30   \n",
       "4  3.19   3.40                8.0        115     5500        18           22   \n",
       "\n",
       "   price  \n",
       "0  13495  \n",
       "1  16500  \n",
       "2  16500  \n",
       "3  13950  \n",
       "4  17450  "
      ]
     },
     "execution_count": 4,
     "metadata": {},
     "output_type": "execute_result"
    }
   ],
   "source": [
    "df.head()"
   ]
  },
  {
   "cell_type": "code",
   "execution_count": 5,
   "id": "f9bc458e",
   "metadata": {},
   "outputs": [
    {
     "data": {
      "text/plain": [
       "(205, 26)"
      ]
     },
     "execution_count": 5,
     "metadata": {},
     "output_type": "execute_result"
    }
   ],
   "source": [
    "df.shape"
   ]
  },
  {
   "cell_type": "code",
   "execution_count": 6,
   "id": "25aede11",
   "metadata": {},
   "outputs": [
    {
     "data": {
      "text/plain": [
       "symboling              int64\n",
       "normalized-losses     object\n",
       "make                  object\n",
       "fuel-type             object\n",
       "aspiration            object\n",
       "num-of-doors          object\n",
       "body-style            object\n",
       "drive-wheels          object\n",
       "engine-location       object\n",
       "wheel-base           float64\n",
       "length               float64\n",
       "width                float64\n",
       "height               float64\n",
       "curb-weight            int64\n",
       "engine-type           object\n",
       "num-of-cylinders      object\n",
       "engine-size            int64\n",
       "fuel-system           object\n",
       "bore                  object\n",
       "stroke                object\n",
       "compression-ratio    float64\n",
       "horsepower            object\n",
       "peak-rpm              object\n",
       "city-mpg               int64\n",
       "highway-mpg            int64\n",
       "price                 object\n",
       "dtype: object"
      ]
     },
     "execution_count": 6,
     "metadata": {},
     "output_type": "execute_result"
    }
   ],
   "source": [
    "df.dtypes"
   ]
  },
  {
   "cell_type": "code",
   "execution_count": 7,
   "id": "c87e3de4",
   "metadata": {},
   "outputs": [
    {
     "data": {
      "text/plain": [
       "str"
      ]
     },
     "execution_count": 7,
     "metadata": {},
     "output_type": "execute_result"
    }
   ],
   "source": [
    "type(df['peak-rpm'][0])"
   ]
  },
  {
   "cell_type": "code",
   "execution_count": 8,
   "id": "b5c1a943",
   "metadata": {},
   "outputs": [],
   "source": [
    "# to convert all object type into float type or int type\n",
    "\n",
    "def convert_to_float(x):\n",
    "    try:\n",
    "        return float(x)\n",
    "    except ValueError:\n",
    "        return 0.0"
   ]
  },
  {
   "cell_type": "code",
   "execution_count": 9,
   "id": "29186e88",
   "metadata": {},
   "outputs": [],
   "source": [
    "df['price'] = df['price'].apply(convert_to_float)"
   ]
  },
  {
   "cell_type": "code",
   "execution_count": 10,
   "id": "5c8fa294",
   "metadata": {},
   "outputs": [
    {
     "data": {
      "text/plain": [
       "numpy.float64"
      ]
     },
     "execution_count": 10,
     "metadata": {},
     "output_type": "execute_result"
    }
   ],
   "source": [
    "type(df['price'][0])\n"
   ]
  },
  {
   "cell_type": "code",
   "execution_count": 11,
   "id": "f4569448",
   "metadata": {},
   "outputs": [
    {
     "data": {
      "text/plain": [
       "symboling              int64\n",
       "normalized-losses     object\n",
       "make                  object\n",
       "fuel-type             object\n",
       "aspiration            object\n",
       "num-of-doors          object\n",
       "body-style            object\n",
       "drive-wheels          object\n",
       "engine-location       object\n",
       "wheel-base           float64\n",
       "length               float64\n",
       "width                float64\n",
       "height               float64\n",
       "curb-weight            int64\n",
       "engine-type           object\n",
       "num-of-cylinders      object\n",
       "engine-size            int64\n",
       "fuel-system           object\n",
       "bore                  object\n",
       "stroke                object\n",
       "compression-ratio    float64\n",
       "horsepower            object\n",
       "peak-rpm              object\n",
       "city-mpg               int64\n",
       "highway-mpg            int64\n",
       "price                float64\n",
       "dtype: object"
      ]
     },
     "execution_count": 11,
     "metadata": {},
     "output_type": "execute_result"
    }
   ],
   "source": [
    "df.dtypes"
   ]
  },
  {
   "cell_type": "code",
   "execution_count": 12,
   "id": "03bc349d",
   "metadata": {},
   "outputs": [
    {
     "data": {
      "text/plain": [
       "'164'"
      ]
     },
     "execution_count": 12,
     "metadata": {},
     "output_type": "execute_result"
    }
   ],
   "source": [
    "df['normalized-losses'][4]"
   ]
  },
  {
   "cell_type": "code",
   "execution_count": 13,
   "id": "cc74fc30",
   "metadata": {},
   "outputs": [],
   "source": [
    "df['peak-rpm'] = df['peak-rpm'].apply(convert_to_float)\n",
    "df['bore']=df['bore'].apply(convert_to_float)\n",
    "df['stroke']=df['stroke'].apply(convert_to_float)\n",
    "df['horsepower']=df['horsepower'].apply(convert_to_float)\n",
    "df['normalized-losses'] = df['normalized-losses'].apply(convert_to_float)"
   ]
  },
  {
   "cell_type": "code",
   "execution_count": 14,
   "id": "9fd0de14",
   "metadata": {},
   "outputs": [
    {
     "data": {
      "text/plain": [
       "symboling              int64\n",
       "normalized-losses    float64\n",
       "make                  object\n",
       "fuel-type             object\n",
       "aspiration            object\n",
       "num-of-doors          object\n",
       "body-style            object\n",
       "drive-wheels          object\n",
       "engine-location       object\n",
       "wheel-base           float64\n",
       "length               float64\n",
       "width                float64\n",
       "height               float64\n",
       "curb-weight            int64\n",
       "engine-type           object\n",
       "num-of-cylinders      object\n",
       "engine-size            int64\n",
       "fuel-system           object\n",
       "bore                 float64\n",
       "stroke               float64\n",
       "compression-ratio    float64\n",
       "horsepower           float64\n",
       "peak-rpm             float64\n",
       "city-mpg               int64\n",
       "highway-mpg            int64\n",
       "price                float64\n",
       "dtype: object"
      ]
     },
     "execution_count": 14,
     "metadata": {},
     "output_type": "execute_result"
    }
   ],
   "source": [
    "df.dtypes"
   ]
  },
  {
   "cell_type": "code",
   "execution_count": 15,
   "id": "87c4b277",
   "metadata": {},
   "outputs": [],
   "source": [
    "x = ['fuel-system','num-of-cylinders','engine-type','fuel-type','aspiration','num-of-doors','body-style','drive-wheels',\n",
    "     'engine-location']"
   ]
  },
  {
   "cell_type": "code",
   "execution_count": 16,
   "id": "87f40c5d",
   "metadata": {},
   "outputs": [
    {
     "name": "stdout",
     "output_type": "stream",
     "text": [
      "fuel-system\n",
      "['mpfi' '2bbl' 'mfi' '1bbl' 'spfi' '4bbl' 'idi' 'spdi']\n",
      "-----------------------------\n",
      "num-of-cylinders\n",
      "['four' 'six' 'five' 'three' 'twelve' 'two' 'eight']\n",
      "-----------------------------\n",
      "engine-type\n",
      "['dohc' 'ohcv' 'ohc' 'l' 'rotor' 'ohcf' 'dohcv']\n",
      "-----------------------------\n",
      "fuel-type\n",
      "['gas' 'diesel']\n",
      "-----------------------------\n",
      "aspiration\n",
      "['std' 'turbo']\n",
      "-----------------------------\n",
      "num-of-doors\n",
      "['two' 'four' '?']\n",
      "-----------------------------\n",
      "body-style\n",
      "['convertible' 'hatchback' 'sedan' 'wagon' 'hardtop']\n",
      "-----------------------------\n",
      "drive-wheels\n",
      "['rwd' 'fwd' '4wd']\n",
      "-----------------------------\n",
      "engine-location\n",
      "['front' 'rear']\n",
      "-----------------------------\n"
     ]
    }
   ],
   "source": [
    "for i in x:\n",
    "    print(i)\n",
    "    print(df[i].unique())\n",
    "    print('-----------------------------')"
   ]
  },
  {
   "cell_type": "code",
   "execution_count": null,
   "id": "eb39b276",
   "metadata": {},
   "outputs": [],
   "source": []
  },
  {
   "cell_type": "code",
   "execution_count": 17,
   "id": "49c1d520",
   "metadata": {},
   "outputs": [],
   "source": [
    "fuel_dict ={}\n",
    "x = 0\n",
    "for i in df['fuel-system'].unique():\n",
    "    fuel_dict[i]=x\n",
    "    x = x+1"
   ]
  },
  {
   "cell_type": "code",
   "execution_count": 18,
   "id": "c9f9be1c",
   "metadata": {},
   "outputs": [
    {
     "data": {
      "text/plain": [
       "{'mpfi': 0,\n",
       " '2bbl': 1,\n",
       " 'mfi': 2,\n",
       " '1bbl': 3,\n",
       " 'spfi': 4,\n",
       " '4bbl': 5,\n",
       " 'idi': 6,\n",
       " 'spdi': 7}"
      ]
     },
     "execution_count": 18,
     "metadata": {},
     "output_type": "execute_result"
    }
   ],
   "source": [
    "fuel_dict"
   ]
  },
  {
   "cell_type": "code",
   "execution_count": 19,
   "id": "e570be33",
   "metadata": {},
   "outputs": [],
   "source": [
    "df['fuel-system'] = df['fuel-system'].map(fuel_dict)"
   ]
  },
  {
   "cell_type": "code",
   "execution_count": 20,
   "id": "b182ae59",
   "metadata": {},
   "outputs": [],
   "source": [
    "#num-of-cylinders\n",
    "#['four' 'six' 'five' 'three' 'twelve' 'two' 'eight']\n",
    "\n",
    "cy_dict = {\n",
    "    'four':4,'six':6,'five':5,'three':3 ,'twelve':12,'two':2,'eight':8\n",
    "}"
   ]
  },
  {
   "cell_type": "code",
   "execution_count": 21,
   "id": "5a5d9e52",
   "metadata": {},
   "outputs": [],
   "source": [
    "df['num-of-cylinders'] = df['num-of-cylinders'].map(cy_dict)"
   ]
  },
  {
   "cell_type": "code",
   "execution_count": 22,
   "id": "242b5d04",
   "metadata": {},
   "outputs": [],
   "source": [
    "#engine-type\n",
    "#['dohc' 'ohcv' 'ohc' 'l' 'rotor' 'ohcf' 'dohcv']\n",
    "engine_dict = {\n",
    "    'dohc':0,'ohcv':1,'ohc':2,'l':3,'rotor':4,'ohcf':5,'dohcv':6\n",
    "}"
   ]
  },
  {
   "cell_type": "code",
   "execution_count": 23,
   "id": "7e0067be",
   "metadata": {},
   "outputs": [],
   "source": [
    "df['engine-type'] = df['engine-type'].map(engine_dict)"
   ]
  },
  {
   "cell_type": "code",
   "execution_count": 24,
   "id": "6f5b2117",
   "metadata": {},
   "outputs": [],
   "source": [
    "#fuel-type\n",
    "#['gas' 'diesel']\n",
    "fue_dict={\n",
    "    'gas':0,'diesel':1\n",
    "}"
   ]
  },
  {
   "cell_type": "code",
   "execution_count": 25,
   "id": "8820a530",
   "metadata": {},
   "outputs": [],
   "source": [
    "df['fuel-type'] = df['fuel-type'].map(fue_dict)"
   ]
  },
  {
   "cell_type": "raw",
   "id": "7f6166fc",
   "metadata": {},
   "source": [
    "aspiration\n",
    "['std' 'turbo']\n",
    "-----------------------------\n",
    "num-of-doors\n",
    "['two' 'four' '?']\n",
    "-----------------------------\n",
    "body-style\n",
    "['convertible' 'hatchback' 'sedan' 'wagon' 'hardtop']\n",
    "-----------------------------\n",
    "drive-wheels\n",
    "['rwd' 'fwd' '4wd']\n",
    "-----------------------------\n",
    "engine-location\n",
    "['front' 'rear']"
   ]
  },
  {
   "cell_type": "code",
   "execution_count": 26,
   "id": "ff2cdf24",
   "metadata": {},
   "outputs": [],
   "source": [
    "as_dict = {'std':0,'turbo':1}\n",
    "nod_dict = {'two':2,'four':4,'?':0}\n",
    "body_dict = {'convertible':0,'hatchback':1,'sedan':2,'wagon':3,'hardtop':4}\n",
    "dw_dict = {'rwd':0,'fwd':1,'4wd':2}\n",
    "engine_loc = {'front':0,'rear':1}"
   ]
  },
  {
   "cell_type": "code",
   "execution_count": 27,
   "id": "f99e37bb",
   "metadata": {},
   "outputs": [],
   "source": [
    "df['aspiration'] = df['aspiration'].map(as_dict)\n",
    "df['num-of-doors'] = df['num-of-doors'].map(nod_dict)\n",
    "df['body-style'] = df['body-style'].map(body_dict)\n",
    "df['drive-wheels'] = df['drive-wheels'].map(dw_dict)\n",
    "df['engine-location'] = df['engine-location'].map(engine_loc)"
   ]
  },
  {
   "cell_type": "code",
   "execution_count": 28,
   "id": "7565dc18",
   "metadata": {},
   "outputs": [
    {
     "data": {
      "text/plain": [
       "symboling              int64\n",
       "normalized-losses    float64\n",
       "make                  object\n",
       "fuel-type              int64\n",
       "aspiration             int64\n",
       "num-of-doors           int64\n",
       "body-style             int64\n",
       "drive-wheels           int64\n",
       "engine-location        int64\n",
       "wheel-base           float64\n",
       "length               float64\n",
       "width                float64\n",
       "height               float64\n",
       "curb-weight            int64\n",
       "engine-type            int64\n",
       "num-of-cylinders       int64\n",
       "engine-size            int64\n",
       "fuel-system            int64\n",
       "bore                 float64\n",
       "stroke               float64\n",
       "compression-ratio    float64\n",
       "horsepower           float64\n",
       "peak-rpm             float64\n",
       "city-mpg               int64\n",
       "highway-mpg            int64\n",
       "price                float64\n",
       "dtype: object"
      ]
     },
     "execution_count": 28,
     "metadata": {},
     "output_type": "execute_result"
    }
   ],
   "source": [
    "df.dtypes"
   ]
  },
  {
   "cell_type": "code",
   "execution_count": 29,
   "id": "b3a19f99",
   "metadata": {},
   "outputs": [
    {
     "data": {
      "text/plain": [
       "array(['alfa-romero', 'audi', 'bmw', 'chevrolet', 'dodge', 'honda',\n",
       "       'isuzu', 'jaguar', 'mazda', 'mercedes-benz', 'mercury',\n",
       "       'mitsubishi', 'nissan', 'peugot', 'plymouth', 'porsche', 'renault',\n",
       "       'saab', 'subaru', 'toyota', 'volkswagen', 'volvo'], dtype=object)"
      ]
     },
     "execution_count": 29,
     "metadata": {},
     "output_type": "execute_result"
    }
   ],
   "source": [
    "df['make'].unique()"
   ]
  },
  {
   "cell_type": "code",
   "execution_count": 30,
   "id": "23582fa9",
   "metadata": {},
   "outputs": [],
   "source": [
    "make_dict ={}\n",
    "initial = 0\n",
    "for i in df['make'].unique():\n",
    "    make_dict[i] = initial\n",
    "    initial = initial+1"
   ]
  },
  {
   "cell_type": "code",
   "execution_count": 31,
   "id": "b5c74576",
   "metadata": {},
   "outputs": [
    {
     "data": {
      "text/plain": [
       "{'alfa-romero': 0,\n",
       " 'audi': 1,\n",
       " 'bmw': 2,\n",
       " 'chevrolet': 3,\n",
       " 'dodge': 4,\n",
       " 'honda': 5,\n",
       " 'isuzu': 6,\n",
       " 'jaguar': 7,\n",
       " 'mazda': 8,\n",
       " 'mercedes-benz': 9,\n",
       " 'mercury': 10,\n",
       " 'mitsubishi': 11,\n",
       " 'nissan': 12,\n",
       " 'peugot': 13,\n",
       " 'plymouth': 14,\n",
       " 'porsche': 15,\n",
       " 'renault': 16,\n",
       " 'saab': 17,\n",
       " 'subaru': 18,\n",
       " 'toyota': 19,\n",
       " 'volkswagen': 20,\n",
       " 'volvo': 21}"
      ]
     },
     "execution_count": 31,
     "metadata": {},
     "output_type": "execute_result"
    }
   ],
   "source": [
    "make_dict"
   ]
  },
  {
   "cell_type": "code",
   "execution_count": 32,
   "id": "5f3f6f64",
   "metadata": {},
   "outputs": [],
   "source": [
    "df['make'] = df['make'].map(make_dict)"
   ]
  },
  {
   "cell_type": "code",
   "execution_count": 33,
   "id": "e0617343",
   "metadata": {},
   "outputs": [
    {
     "data": {
      "text/plain": [
       "symboling              int64\n",
       "normalized-losses    float64\n",
       "make                   int64\n",
       "fuel-type              int64\n",
       "aspiration             int64\n",
       "num-of-doors           int64\n",
       "body-style             int64\n",
       "drive-wheels           int64\n",
       "engine-location        int64\n",
       "wheel-base           float64\n",
       "length               float64\n",
       "width                float64\n",
       "height               float64\n",
       "curb-weight            int64\n",
       "engine-type            int64\n",
       "num-of-cylinders       int64\n",
       "engine-size            int64\n",
       "fuel-system            int64\n",
       "bore                 float64\n",
       "stroke               float64\n",
       "compression-ratio    float64\n",
       "horsepower           float64\n",
       "peak-rpm             float64\n",
       "city-mpg               int64\n",
       "highway-mpg            int64\n",
       "price                float64\n",
       "dtype: object"
      ]
     },
     "execution_count": 33,
     "metadata": {},
     "output_type": "execute_result"
    }
   ],
   "source": [
    "df.dtypes"
   ]
  },
  {
   "cell_type": "code",
   "execution_count": 34,
   "id": "e5dc965e",
   "metadata": {},
   "outputs": [
    {
     "data": {
      "text/plain": [
       "(205, 26)"
      ]
     },
     "execution_count": 34,
     "metadata": {},
     "output_type": "execute_result"
    }
   ],
   "source": [
    "df.shape"
   ]
  },
  {
   "cell_type": "code",
   "execution_count": 35,
   "id": "7592b06b",
   "metadata": {},
   "outputs": [],
   "source": [
    "in_col = df.drop('price',axis=1)\n",
    "out_col = df['price']"
   ]
  },
  {
   "cell_type": "code",
   "execution_count": 36,
   "id": "fb1efa4d",
   "metadata": {},
   "outputs": [],
   "source": [
    "from sklearn.model_selection import train_test_split"
   ]
  },
  {
   "cell_type": "code",
   "execution_count": 37,
   "id": "46fc65c4",
   "metadata": {},
   "outputs": [],
   "source": [
    "in_train,in_test,out_train,out_test = train_test_split(in_col,out_col,train_size=0.8,random_state=42)"
   ]
  },
  {
   "cell_type": "code",
   "execution_count": 38,
   "id": "fec3f4cd",
   "metadata": {},
   "outputs": [
    {
     "data": {
      "text/plain": [
       "(164, 25)"
      ]
     },
     "execution_count": 38,
     "metadata": {},
     "output_type": "execute_result"
    }
   ],
   "source": [
    "in_train.shape"
   ]
  },
  {
   "cell_type": "code",
   "execution_count": 39,
   "id": "f072aa2c",
   "metadata": {},
   "outputs": [
    {
     "data": {
      "text/plain": [
       "(164,)"
      ]
     },
     "execution_count": 39,
     "metadata": {},
     "output_type": "execute_result"
    }
   ],
   "source": [
    "out_train.shape"
   ]
  },
  {
   "cell_type": "code",
   "execution_count": 40,
   "id": "df7725ae",
   "metadata": {},
   "outputs": [
    {
     "data": {
      "text/plain": [
       "(41, 25)"
      ]
     },
     "execution_count": 40,
     "metadata": {},
     "output_type": "execute_result"
    }
   ],
   "source": [
    "in_test.shape"
   ]
  },
  {
   "cell_type": "code",
   "execution_count": 41,
   "id": "f9a0ad58",
   "metadata": {},
   "outputs": [
    {
     "data": {
      "text/plain": [
       "(41,)"
      ]
     },
     "execution_count": 41,
     "metadata": {},
     "output_type": "execute_result"
    }
   ],
   "source": [
    "out_test.shape"
   ]
  },
  {
   "cell_type": "code",
   "execution_count": 42,
   "id": "bc9a7f5f",
   "metadata": {},
   "outputs": [],
   "source": [
    "from sklearn.linear_model import LogisticRegression,Lasso,Ridge\n",
    "from sklearn.svm import SVR\n",
    "from sklearn.tree import DecisionTreeRegressor\n",
    "from sklearn.ensemble import RandomForestRegressor\n",
    "from sklearn.neighbors import KNeighborsRegressor"
   ]
  },
  {
   "cell_type": "code",
   "execution_count": 52,
   "id": "17dc8399",
   "metadata": {},
   "outputs": [],
   "source": [
    "from sklearn.metrics import mean_absolute_error,mean_squared_error"
   ]
  },
  {
   "cell_type": "code",
   "execution_count": 53,
   "id": "7792d7f0",
   "metadata": {},
   "outputs": [],
   "source": [
    "Model =[LogisticRegression,Lasso,Ridge,SVR,DecisionTreeRegressor,RandomForestRegressor,KNeighborsRegressor]"
   ]
  },
  {
   "cell_type": "code",
   "execution_count": 54,
   "id": "f7b12af2",
   "metadata": {},
   "outputs": [],
   "source": [
    "def mean_absolute(Model):\n",
    "    model = Model()\n",
    "    model.fit(in_train,out_train)\n",
    "    train_pred = model.predict(in_train)\n",
    "    test_pred = model.predict(in_test)\n",
    "    train_mae = mean_absolute_error(train_pred,out_train)\n",
    "    test_mae = mean_absolute_error(test_pred,out_test)\n",
    "    return (train_mae,test_mae)"
   ]
  },
  {
   "cell_type": "code",
   "execution_count": 55,
   "id": "a72d6158",
   "metadata": {},
   "outputs": [
    {
     "name": "stderr",
     "output_type": "stream",
     "text": [
      "c:\\users\\user\\appdata\\local\\programs\\python\\python37\\lib\\site-packages\\sklearn\\linear_model\\_logistic.py:765: ConvergenceWarning: lbfgs failed to converge (status=1):\n",
      "STOP: TOTAL NO. of ITERATIONS REACHED LIMIT.\n",
      "\n",
      "Increase the number of iterations (max_iter) or scale the data as shown in:\n",
      "    https://scikit-learn.org/stable/modules/preprocessing.html\n",
      "Please also refer to the documentation for alternative solver options:\n",
      "    https://scikit-learn.org/stable/modules/linear_model.html#logistic-regression\n",
      "  extra_warning_msg=_LOGISTIC_SOLVER_CONVERGENCE_MSG)\n"
     ]
    },
    {
     "name": "stdout",
     "output_type": "stream",
     "text": [
      "LogisticRegression-->mean_absolute_error of train and test is (1113.9268292682927, 3650.609756097561)\n",
      "Lasso-->mean_absolute_error of train and test is (1833.4183422048625, 3156.0340753614073)\n",
      "Ridge-->mean_absolute_error of train and test is (1921.4525898876839, 3015.217711896713)\n",
      "SVR-->mean_absolute_error of train and test is (5435.224270720282, 5978.38474556974)\n",
      "DecisionTreeRegressor-->mean_absolute_error of train and test is (44.542682926829265, 2076.731707317073)\n",
      "RandomForestRegressor-->mean_absolute_error of train and test is (693.7818372531941, 1792.7882520325202)\n",
      "KNeighborsRegressor-->mean_absolute_error of train and test is (1809.940243902439, 2935.292682926829)\n"
     ]
    }
   ],
   "source": [
    "for i in Model:\n",
    "    print(f'{str(i.__name__)}-->mean_absolute_error of train and test is {mean_absolute(i)}')"
   ]
  },
  {
   "cell_type": "code",
   "execution_count": null,
   "id": "2c869542",
   "metadata": {},
   "outputs": [],
   "source": []
  }
 ],
 "metadata": {
  "kernelspec": {
   "display_name": "Python 3",
   "language": "python",
   "name": "python3"
  },
  "language_info": {
   "codemirror_mode": {
    "name": "ipython",
    "version": 3
   },
   "file_extension": ".py",
   "mimetype": "text/x-python",
   "name": "python",
   "nbconvert_exporter": "python",
   "pygments_lexer": "ipython3",
   "version": "3.7.7"
  }
 },
 "nbformat": 4,
 "nbformat_minor": 5
}
